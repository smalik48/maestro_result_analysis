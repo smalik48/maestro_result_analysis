{
 "cells": [
  {
   "cell_type": "code",
   "execution_count": 1,
   "metadata": {},
   "outputs": [],
   "source": [
    "%matplotlib inline \n",
    "import numpy as np\n",
    "import pandas as pd\n",
    "import matplotlib.pyplot as plt\n",
    "\n",
    "def draw_graph(df, y, x, color, figsize, legend, title, xlabel, ylabel, start_layer, end_layer):\n",
    "    df.columns = df.columns.str.strip()\n",
    "    if(end_layer == \"all\"):\n",
    "        df_new = df\n",
    "    else:\n",
    "        df_new = df[start_layer:end_layer]\n",
    "    my_plot = df_new.plot(kind='bar', y = y, x = x, color = color, figsize = figsize, legend = legend)\n",
    "    my_plot.set_title(title)\n",
    "    my_plot.set_xlabel(xlabel)\n",
    "    my_plot.set_ylabel(ylabel)\n",
    "    return my_plot"
   ]
  },
  {
   "cell_type": "code",
   "execution_count": null,
   "metadata": {},
   "outputs": [],
   "source": []
  }
 ],
 "metadata": {
  "kernelspec": {
   "display_name": "Python 3",
   "language": "python",
   "name": "python3"
  },
  "language_info": {
   "codemirror_mode": {
    "name": "ipython",
    "version": 3
   },
   "file_extension": ".py",
   "mimetype": "text/x-python",
   "name": "python",
   "nbconvert_exporter": "python",
   "pygments_lexer": "ipython3",
   "version": "3.7.1"
  }
 },
 "nbformat": 4,
 "nbformat_minor": 2
}
